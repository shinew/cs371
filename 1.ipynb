{
 "cells": [
  {
   "cell_type": "markdown",
   "metadata": {},
   "source": [
    "Any number can be represent4ed by (infinite) expansion base $\\beta$ in the *normalized form*:\n",
    "\n",
    "$$0.d_1 d_2 d_3 ... \\times \\beta^p, d_1 \\neq 0$$\n",
    "\n",
    "$p$ = integer = exponent\n",
    "\n",
    "$d_k$ = digit base $\\beta, 0 \\leq d_k \\leq \\beta - 1$"
   ]
  },
  {
   "cell_type": "markdown",
   "metadata": {},
   "source": [
    "A floating-point number system limits:\n",
    "\n",
    "1. density - keep only finite # of digits\n",
    "2. range - finite # of integers for $p$\n",
    "\n",
    "A floating-point number system can be identified by 4 parameters: $F(\\beta, m, L, U)$ and any *non-zero* numbers have the form:\n",
    "\n",
    "$$\\pm 0.d_1 d_2 ... d_m \\times \\beta^p, d_1 \\neq 0, 0 \\leq d_i \\leq \\beta - 1, i = 1 ... m, L \\leq p \\leq U$$\n",
    "\n",
    "$\\beta$ = digit base\n",
    "\n",
    "$m$ = # of digits in mantissa\n",
    "\n",
    "$L$ = lower-bound\n",
    "\n",
    "$U$ = upper-bound\n",
    "\n",
    "*Zero* is given by $d_1 = ... d_m = 0, p = 0$"
   ]
  },
  {
   "cell_type": "markdown",
   "metadata": {},
   "source": [
    "Examples:\n",
    "\n",
    "IEEE single precision: $\\beta = 2, m = 24, L = -126, U = 127$\n",
    "\n",
    "IEEE double precision: $\\beta = 2, m = 53, L = -1022, U = 1023$"
   ]
  },
  {
   "cell_type": "markdown",
   "metadata": {},
   "source": [
    "Two limitations:\n",
    "\n",
    "- Fixed # of digits. An arbitrary real number $x$ must be approximated. 2 ways:\n",
    "    - Chopping. Take the first $m$ digits of the normalized form.\n",
    "    \n",
    "    $0.d_1 d_2 ... d_m ... \\times \\beta^p \\to 0.d_1 d_2 ... d_m \\times \\beta^p$\n",
    "    \n",
    "    - Rounding. \n",
    "    \n",
    "    $x = 0.d_1 d_2 ... d_m d_{m+1}... \\times \\beta^p$.\n",
    "    \n",
    "    If $d_{m+1} < \\beta / 2$, use $x = 0.d_1 d_2 ... d_m \\times \\beta^p$. Else use $x = 0.d_1 d_2 ... (d_m+1) \\times \\beta^p$.\n",
    "    \n",
    "    $fl(x) = $chop$(x + 0.5 \\times \\beta^{p-m})$\n",
    "\n",
    "\n",
    "- Exponent is bounded.\n",
    "    - Underflow ($p < L$).\n",
    "        - A number is too small\n",
    "        - normally underflow is set to 0\n",
    "        - e.g. IEEE SP: smallest pos number $= 2^{-126} \\approx 10^{-38}$\n",
    "    - Overflow ($p > U$).\n",
    "        - A number is too big\n",
    "        - normally causes program to abort"
   ]
  },
  {
   "cell_type": "markdown",
   "metadata": {},
   "source": [
    "### Exception handling\n",
    "\n",
    "| op | example | result |\n",
    "| --- | --- | --- |\n",
    "| invalid op | 0/0 | NaN |\n",
    "| division by 0 | 1 / 0 | $\\pm \\infty$ |\n",
    "| overflow | $N_{max} + 1$ | $\\pm \\infty$ |\n",
    "| underflow | $N_{min} / 2 $ | 0 |"
   ]
  },
  {
   "cell_type": "markdown",
   "metadata": {},
   "source": [
    "### Error of FP representation\n",
    "Let $\\tilde{x}$ be an approximation to $x$.\n",
    "\n",
    "Absolute error:\n",
    "\n",
    "$$| x - \\tilde{x} |$$\n",
    "\n",
    "Relative error:\n",
    "$$\\frac{| x - \\tilde{x} |}{|x|}$$\n",
    "\n",
    "$\\tilde{x}$ is said to approximate $x$ to about $s$ significant digits.\n",
    "\n",
    "If the relative error $\\approx 10^{-s}$\n",
    "\n",
    "$0.5 \\times 10^{-s} \\leq \\frac{| x - \\tilde{x} |}{|x|} \\leq 5 \\times 10^{-s}$"
   ]
  },
  {
   "cell_type": "markdown",
   "metadata": {},
   "source": [
    "### $x \\in \\mathbb{R}$ and $fl(x) \\in$ FP\n",
    "- The relative error of $fl(x)$ for $x$ is bounded for all $x$ in the exponent range.\n",
    "- The max relative error is called *machine epsilon* (or *machine precision*).\n",
    "\n",
    "$\\frac{fl(x) - x}{x} = \\delta$, where $|\\delta| \\leq \\epsilon_{machine}$\n",
    "\n",
    "or $fl(x) = x(1+\\delta)$, where $|\\delta| \\leq \\epsilon_{machine}$"
   ]
  },
  {
   "cell_type": "markdown",
   "metadata": {},
   "source": [
    "Def: $\\epsilon_{machine}$ is defined to be the smallest number $\\epsilon$ such that $fl(1+\\epsilon) > 1$."
   ]
  },
  {
   "cell_type": "code",
   "execution_count": null,
   "metadata": {
    "collapsed": true
   },
   "outputs": [],
   "source": []
  }
 ],
 "metadata": {
  "kernelspec": {
   "display_name": "Python 2",
   "language": "python",
   "name": "python2"
  },
  "language_info": {
   "codemirror_mode": {
    "name": "ipython",
    "version": 2
   },
   "file_extension": ".py",
   "mimetype": "text/x-python",
   "name": "python",
   "nbconvert_exporter": "python",
   "pygments_lexer": "ipython2",
   "version": "2.7.11"
  }
 },
 "nbformat": 4,
 "nbformat_minor": 0
}
